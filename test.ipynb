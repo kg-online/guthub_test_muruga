{
 "cells": [
  {
   "cell_type": "code",
   "execution_count": null,
   "metadata": {},
   "outputs": [],
   "source": [
    "# Using tuples as values in a dictionary\n",
    "person_info = {\n",
    "    'John': (25, 'Engineer'),\n",
    "    'Jane': (30, 'Designer'),\n",
    "    'Alice': (28, 'Manager')\n",
    "}\n",
    "\n",
    "# Accessing values\n",
    "print(person_info['John'])  # Output: (25, 'Engineer')\n",
    "\n",
    "# Accessing elements within a tuple value\n",
    "print(person_info['John'][0])  # Output: 25 (age)\n",
    "print(person_info['John'][1])  # Output: 'Engineer' (occupation)\n"
   ]
  }
 ],
 "metadata": {
  "kernelspec": {
   "display_name": "Python 3",
   "language": "python",
   "name": "python3"
  },
  "language_info": {
   "name": "python",
   "version": "3.11.1"
  },
  "orig_nbformat": 4
 },
 "nbformat": 4,
 "nbformat_minor": 2
}
